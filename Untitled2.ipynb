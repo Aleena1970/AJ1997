{
 "cells": [
  {
   "cell_type": "code",
   "execution_count": 1,
   "id": "3f73ed27-3a96-4426-9d22-9c71f9a51267",
   "metadata": {},
   "outputs": [
    {
     "data": {
      "text/plain": [
       "300"
      ]
     },
     "execution_count": 1,
     "metadata": {},
     "output_type": "execute_result"
    }
   ],
   "source": [
    "xx=100\n",
    "xy=200\n",
    "xx+xy"
   ]
  },
  {
   "cell_type": "code",
   "execution_count": 2,
   "id": "6d7eb1e2-f992-40f7-9326-bd688880d8ee",
   "metadata": {},
   "outputs": [
    {
     "data": {
      "text/plain": [
       "20000"
      ]
     },
     "execution_count": 2,
     "metadata": {},
     "output_type": "execute_result"
    }
   ],
   "source": [
    "Aleena=100\n",
    "xyz=200\n",
    "Aleena*xyz"
   ]
  },
  {
   "cell_type": "code",
   "execution_count": 3,
   "id": "90ce95a1-49d2-4b21-b25a-d35c878e667f",
   "metadata": {},
   "outputs": [
    {
     "ename": "TypeError",
     "evalue": "'int' object is not callable",
     "output_type": "error",
     "traceback": [
      "\u001b[1;31m---------------------------------------------------------------------------\u001b[0m",
      "\u001b[1;31mTypeError\u001b[0m                                 Traceback (most recent call last)",
      "\u001b[1;32m<ipython-input-3-0a7a4e00b480>\u001b[0m in \u001b[0;36m<module>\u001b[1;34m\u001b[0m\n\u001b[0;32m      1\u001b[0m \u001b[0mprint\u001b[0m\u001b[1;33m=\u001b[0m\u001b[1;36m100\u001b[0m\u001b[1;33m\u001b[0m\u001b[1;33m\u001b[0m\u001b[0m\n\u001b[1;32m----> 2\u001b[1;33m \u001b[0mprint\u001b[0m\u001b[1;33m(\u001b[0m\u001b[0mprint\u001b[0m\u001b[1;33m)\u001b[0m\u001b[1;33m\u001b[0m\u001b[1;33m\u001b[0m\u001b[0m\n\u001b[0m",
      "\u001b[1;31mTypeError\u001b[0m: 'int' object is not callable"
     ]
    }
   ],
   "source": [
    "print=100\n",
    "print(print)"
   ]
  },
  {
   "cell_type": "code",
   "execution_count": 4,
   "id": "c74b7279-822e-41b3-a520-3f15fd0d88cf",
   "metadata": {},
   "outputs": [],
   "source": [
    "ABC=10"
   ]
  },
  {
   "cell_type": "code",
   "execution_count": 5,
   "id": "e2b57ef6-f2aa-49a9-b445-9ee1b6ca9246",
   "metadata": {},
   "outputs": [],
   "source": [
    "Abc=10"
   ]
  },
  {
   "cell_type": "code",
   "execution_count": 6,
   "id": "53c539df-632b-4f69-8bdf-713ca5b37293",
   "metadata": {},
   "outputs": [],
   "source": [
    "aBC=10\n"
   ]
  },
  {
   "cell_type": "code",
   "execution_count": 7,
   "id": "e7a163e9-90be-4ced-989a-28c67309e1a8",
   "metadata": {},
   "outputs": [],
   "source": [
    "abc=10"
   ]
  },
  {
   "cell_type": "code",
   "execution_count": 8,
   "id": "9e29d941-cbdb-4bc6-ae25-e9d486dcd8f0",
   "metadata": {},
   "outputs": [
    {
     "ename": "SyntaxError",
     "evalue": "invalid syntax (<ipython-input-8-eb132473e491>, line 1)",
     "output_type": "error",
     "traceback": [
      "\u001b[1;36m  File \u001b[1;32m\"<ipython-input-8-eb132473e491>\"\u001b[1;36m, line \u001b[1;32m1\u001b[0m\n\u001b[1;33m    1abc=10\u001b[0m\n\u001b[1;37m     ^\u001b[0m\n\u001b[1;31mSyntaxError\u001b[0m\u001b[1;31m:\u001b[0m invalid syntax\n"
     ]
    }
   ],
   "source": [
    "1abc=10"
   ]
  },
  {
   "cell_type": "code",
   "execution_count": 9,
   "id": "10166b2a-d42c-488d-897f-3dfb724af17c",
   "metadata": {},
   "outputs": [
    {
     "ename": "SyntaxError",
     "evalue": "invalid syntax (<ipython-input-9-00478ecfad8e>, line 1)",
     "output_type": "error",
     "traceback": [
      "\u001b[1;36m  File \u001b[1;32m\"<ipython-input-9-00478ecfad8e>\"\u001b[1;36m, line \u001b[1;32m1\u001b[0m\n\u001b[1;33m    a b=10\u001b[0m\n\u001b[1;37m      ^\u001b[0m\n\u001b[1;31mSyntaxError\u001b[0m\u001b[1;31m:\u001b[0m invalid syntax\n"
     ]
    }
   ],
   "source": [
    "a b=10"
   ]
  },
  {
   "cell_type": "code",
   "execution_count": 10,
   "id": "d8a1fafa-cda8-46dc-8fcb-53dfad027e2f",
   "metadata": {},
   "outputs": [],
   "source": [
    "x, y, z = \"Aleena\", \"Neha\", \"Joe\""
   ]
  },
  {
   "cell_type": "code",
   "execution_count": 11,
   "id": "ab26e228-9a25-4b91-89f1-5cdc24e3c510",
   "metadata": {},
   "outputs": [
    {
     "ename": "TypeError",
     "evalue": "'int' object is not callable",
     "output_type": "error",
     "traceback": [
      "\u001b[1;31m---------------------------------------------------------------------------\u001b[0m",
      "\u001b[1;31mTypeError\u001b[0m                                 Traceback (most recent call last)",
      "\u001b[1;32m<ipython-input-11-fc17d851ef81>\u001b[0m in \u001b[0;36m<module>\u001b[1;34m\u001b[0m\n\u001b[1;32m----> 1\u001b[1;33m \u001b[0mprint\u001b[0m\u001b[1;33m(\u001b[0m\u001b[0mx\u001b[0m\u001b[1;33m)\u001b[0m\u001b[1;33m\u001b[0m\u001b[1;33m\u001b[0m\u001b[0m\n\u001b[0m",
      "\u001b[1;31mTypeError\u001b[0m: 'int' object is not callable"
     ]
    }
   ],
   "source": [
    "print(x)"
   ]
  },
  {
   "cell_type": "code",
   "execution_count": 12,
   "id": "b0d28a94-e2a5-4e3e-8840-6cffbe726720",
   "metadata": {},
   "outputs": [
    {
     "data": {
      "text/plain": [
       "'Neha'"
      ]
     },
     "execution_count": 12,
     "metadata": {},
     "output_type": "execute_result"
    }
   ],
   "source": [
    "y"
   ]
  },
  {
   "cell_type": "code",
   "execution_count": 13,
   "id": "5e6d6f89-37d6-412a-938d-3bd35e89bf3b",
   "metadata": {},
   "outputs": [
    {
     "data": {
      "text/plain": [
       "'Joe'"
      ]
     },
     "execution_count": 13,
     "metadata": {},
     "output_type": "execute_result"
    }
   ],
   "source": [
    "z"
   ]
  },
  {
   "cell_type": "code",
   "execution_count": 14,
   "id": "5ad52525-cd0a-4b67-bb39-c00c4b45bd11",
   "metadata": {},
   "outputs": [],
   "source": [
    "x, y, z = \"Aleena\", \"Neha\", 2"
   ]
  },
  {
   "cell_type": "code",
   "execution_count": 15,
   "id": "be028e52-f75e-4138-bd6f-c33373630dc3",
   "metadata": {},
   "outputs": [
    {
     "ename": "TypeError",
     "evalue": "'int' object is not callable",
     "output_type": "error",
     "traceback": [
      "\u001b[1;31m---------------------------------------------------------------------------\u001b[0m",
      "\u001b[1;31mTypeError\u001b[0m                                 Traceback (most recent call last)",
      "\u001b[1;32m<ipython-input-15-c01ac3f50fdc>\u001b[0m in \u001b[0;36m<module>\u001b[1;34m\u001b[0m\n\u001b[1;32m----> 1\u001b[1;33m \u001b[0mprint\u001b[0m\u001b[1;33m(\u001b[0m\u001b[0mz\u001b[0m\u001b[1;33m)\u001b[0m\u001b[1;33m\u001b[0m\u001b[1;33m\u001b[0m\u001b[0m\n\u001b[0m",
      "\u001b[1;31mTypeError\u001b[0m: 'int' object is not callable"
     ]
    }
   ],
   "source": [
    "print(z)"
   ]
  },
  {
   "cell_type": "code",
   "execution_count": 16,
   "id": "50c4e60d-a626-4bd2-9b80-fc4789ef1a47",
   "metadata": {},
   "outputs": [],
   "source": [
    "x = y = z = 2"
   ]
  },
  {
   "cell_type": "code",
   "execution_count": 17,
   "id": "736da085-c041-4c15-b0cb-784682c6b34e",
   "metadata": {},
   "outputs": [],
   "source": [
    "import math"
   ]
  },
  {
   "cell_type": "code",
   "execution_count": 18,
   "id": "7d784435-c22a-4676-a7a6-2e1daba7abf0",
   "metadata": {},
   "outputs": [
    {
     "data": {
      "text/plain": [
       "3.141592653589793"
      ]
     },
     "execution_count": 18,
     "metadata": {},
     "output_type": "execute_result"
    }
   ],
   "source": [
    "math.pi"
   ]
  },
  {
   "cell_type": "code",
   "execution_count": 19,
   "id": "608cb14c-45a1-43ba-b133-8af78d29deb8",
   "metadata": {},
   "outputs": [
    {
     "data": {
      "text/plain": [
       "1.0"
      ]
     },
     "execution_count": 19,
     "metadata": {},
     "output_type": "execute_result"
    }
   ],
   "source": [
    "math.cos(0)"
   ]
  },
  {
   "cell_type": "code",
   "execution_count": 20,
   "id": "2ea8a92a-aad4-46b5-8b68-26909c6c691f",
   "metadata": {},
   "outputs": [
    {
     "data": {
      "text/plain": [
       "1.0"
      ]
     },
     "execution_count": 20,
     "metadata": {},
     "output_type": "execute_result"
    }
   ],
   "source": [
    "math.sin(math.pi/2)"
   ]
  },
  {
   "cell_type": "code",
   "execution_count": 21,
   "id": "7350229c-48cf-4308-b78e-07286c14f8f9",
   "metadata": {},
   "outputs": [],
   "source": [
    "import math as J"
   ]
  },
  {
   "cell_type": "code",
   "execution_count": 22,
   "id": "739b0f5a-7ed7-4062-9017-d4ac37f112f5",
   "metadata": {},
   "outputs": [
    {
     "data": {
      "text/plain": [
       "1.0"
      ]
     },
     "execution_count": 22,
     "metadata": {},
     "output_type": "execute_result"
    }
   ],
   "source": [
    "J.sin(J.pi/2)"
   ]
  },
  {
   "cell_type": "code",
   "execution_count": 23,
   "id": "7d8e8100-e14a-477e-afb1-3a9e9eebefb8",
   "metadata": {},
   "outputs": [
    {
     "name": "stdin",
     "output_type": "stream",
     "text": [
      "enter number 1\n",
      "1 for sin or 2 for cos 3 for tan 4 for log 2\n"
     ]
    },
    {
     "name": "stdout",
     "output_type": "stream",
     "text": [
      "0.5403023058681398\n"
     ]
    }
   ],
   "source": [
    "x=int(input(\"enter number\"))\n",
    "y=int(input(\"1 for sin or 2 for cos 3 for tan 4 for log\"))\n",
    "if y == 1 :\n",
    "    print(J.sin(x))\n",
    "if y == 2 : \n",
    "    print(J.cos(x))\n",
    "if y == 3 :\n",
    "    print(J.tan(x))\n",
    "if y == 4 :\n",
    "    print(J.log(x))"
   ]
  },
  {
   "cell_type": "code",
   "execution_count": 24,
   "id": "b5818913-6726-4722-b8a7-5183f09ffe44",
   "metadata": {},
   "outputs": [],
   "source": [
    "def Neha():\n",
    "    x=int(input(\"Enter sum number :\"))\n",
    "    print(\"sq of x=\", x*x)"
   ]
  },
  {
   "cell_type": "code",
   "execution_count": 25,
   "id": "80bf7443-c88a-4558-a1d7-96552f270eb2",
   "metadata": {},
   "outputs": [
    {
     "name": "stdin",
     "output_type": "stream",
     "text": [
      "Enter sum number : 2\n"
     ]
    },
    {
     "name": "stdout",
     "output_type": "stream",
     "text": [
      "sq of x= 4\n"
     ]
    }
   ],
   "source": [
    "Neha()"
   ]
  },
  {
   "cell_type": "code",
   "execution_count": 26,
   "id": "dad37468-e778-4bd3-893d-7b937450ae50",
   "metadata": {},
   "outputs": [],
   "source": [
    "def Neha(x):\n",
    "    print(\"sq of x=\", x*x)"
   ]
  },
  {
   "cell_type": "code",
   "execution_count": 27,
   "id": "bc73de33-fd5f-430a-bb36-6aebf9abe902",
   "metadata": {},
   "outputs": [
    {
     "name": "stdin",
     "output_type": "stream",
     "text": [
      "Enter sum number : 2\n"
     ]
    },
    {
     "name": "stdout",
     "output_type": "stream",
     "text": [
      "sq of x= 4\n"
     ]
    }
   ],
   "source": [
    "x=int(input(\"Enter sum number :\"))\n",
    "Neha(x)    "
   ]
  },
  {
   "cell_type": "code",
   "execution_count": null,
   "id": "4941aaff-11c5-40f6-9632-53f240ae4115",
   "metadata": {},
   "outputs": [],
   "source": []
  }
 ],
 "metadata": {
  "kernelspec": {
   "display_name": "Python 3",
   "language": "python",
   "name": "python3"
  },
  "language_info": {
   "codemirror_mode": {
    "name": "ipython",
    "version": 3
   },
   "file_extension": ".py",
   "mimetype": "text/x-python",
   "name": "python",
   "nbconvert_exporter": "python",
   "pygments_lexer": "ipython3",
   "version": "3.8.8"
  }
 },
 "nbformat": 4,
 "nbformat_minor": 5
}
