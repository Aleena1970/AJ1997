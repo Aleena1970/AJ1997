{
 "cells": [
  {
   "cell_type": "code",
   "execution_count": 1,
   "id": "26f17e22-915e-4d2f-9e1e-55ed9206556e",
   "metadata": {},
   "outputs": [],
   "source": [
    "x=20"
   ]
  },
  {
   "cell_type": "code",
   "execution_count": 2,
   "id": "db5e6cef-d0e5-4bb4-9797-f81b1602ffcd",
   "metadata": {},
   "outputs": [
    {
     "name": "stdin",
     "output_type": "stream",
     "text": [
      "Enter a number = 1\n"
     ]
    },
    {
     "name": "stdout",
     "output_type": "stream",
     "text": [
      "x is less than 15\n"
     ]
    }
   ],
   "source": [
    "x=int(input(\"Enter a number =\"))\n",
    "if x > 15 :\n",
    "    print(\"x is greater than 15\")\n",
    "if x < 15 :\n",
    "    print(\"x is less than 15\")"
   ]
  },
  {
   "cell_type": "code",
   "execution_count": 3,
   "id": "88279348-1345-49a5-aa04-fbf8fb05773d",
   "metadata": {},
   "outputs": [],
   "source": [
    "x=15"
   ]
  },
  {
   "cell_type": "code",
   "execution_count": 4,
   "id": "44a3ea59-ea90-42be-a036-ad090595f702",
   "metadata": {},
   "outputs": [
    {
     "name": "stdout",
     "output_type": "stream",
     "text": [
      "x is equal to 15\n"
     ]
    }
   ],
   "source": [
    "if x == 15 :\n",
    "    print(\"x is equal to 15\")"
   ]
  },
  {
   "cell_type": "code",
   "execution_count": 5,
   "id": "580694e3-fd1a-4942-8519-1058ce3bf57c",
   "metadata": {},
   "outputs": [
    {
     "name": "stdin",
     "output_type": "stream",
     "text": [
      "P 5000\n",
      "N 3\n"
     ]
    }
   ],
   "source": [
    "x=int(input(\"P\"))\n",
    "y=int(input(\"N\"))\n",
    "if y > 6 :\n",
    "    R=10 \n",
    "if y < 6 :\n",
    "    R=8\n",
    "if y==6  :\n",
    "    R=8\n",
    "p1=int(x)+int(x)*int(y)*float(R)"
   ]
  },
  {
   "cell_type": "code",
   "execution_count": 6,
   "id": "0ca2060d-07d8-4545-8a16-fa40124326b9",
   "metadata": {},
   "outputs": [
    {
     "name": "stdout",
     "output_type": "stream",
     "text": [
      "125000.0\n"
     ]
    }
   ],
   "source": [
    "print(p1)"
   ]
  },
  {
   "cell_type": "code",
   "execution_count": 7,
   "id": "dd7e92cb-1d57-416e-9c79-a869cdc20d9d",
   "metadata": {},
   "outputs": [
    {
     "name": "stdin",
     "output_type": "stream",
     "text": [
      "P 15000\n",
      "N 3\n"
     ]
    }
   ],
   "source": [
    "x=int(input(\"P\"))\n",
    "y=int(input(\"N\"))\n",
    "if x > 15000 :\n",
    "    R=10\n",
    "if y > 6 :\n",
    "    R=10 \n",
    "if y < 6 :\n",
    "    R=8\n",
    "if x == 15000 :\n",
    "    R=10\n",
    "if y==6  :\n",
    "    R=8\n",
    "p1=int(x)+int(x)*int(y)*float(R)"
   ]
  },
  {
   "cell_type": "code",
   "execution_count": 8,
   "id": "91692ab7-80e5-47de-8a90-ac5b9de10389",
   "metadata": {},
   "outputs": [
    {
     "name": "stdout",
     "output_type": "stream",
     "text": [
      "465000.0\n"
     ]
    }
   ],
   "source": [
    "print(p1)"
   ]
  },
  {
   "cell_type": "code",
   "execution_count": 16,
   "id": "66acfb9d-7a8c-4021-9ef1-6322ccc10e66",
   "metadata": {},
   "outputs": [
    {
     "name": "stdin",
     "output_type": "stream",
     "text": [
      "first number 1\n",
      "second number 7\n",
      "Function 1\n"
     ]
    }
   ],
   "source": [
    "x=int(input(\"first number\"))\n",
    "y=int(input(\"second number\"))\n",
    "z=int(input(\"Function\"))\n",
    "if z == 1 :\n",
    "      a=x+y\n",
    "if z == 2 :\n",
    "      a=x-y\n",
    "if z == 3 :\n",
    "      a=x*y"
   ]
  },
  {
   "cell_type": "code",
   "execution_count": 10,
   "id": "b3a2f605-6ae4-4c82-beb4-d3d903d3dd54",
   "metadata": {},
   "outputs": [
    {
     "name": "stdout",
     "output_type": "stream",
     "text": [
      "2\n"
     ]
    }
   ],
   "source": [
    "print(z)"
   ]
  },
  {
   "cell_type": "code",
   "execution_count": null,
   "id": "ca3aacc3-aab9-4453-a1de-6bdec9feb595",
   "metadata": {},
   "outputs": [],
   "source": []
  }
 ],
 "metadata": {
  "kernelspec": {
   "display_name": "Python 3",
   "language": "python",
   "name": "python3"
  },
  "language_info": {
   "codemirror_mode": {
    "name": "ipython",
    "version": 3
   },
   "file_extension": ".py",
   "mimetype": "text/x-python",
   "name": "python",
   "nbconvert_exporter": "python",
   "pygments_lexer": "ipython3",
   "version": "3.8.8"
  }
 },
 "nbformat": 4,
 "nbformat_minor": 5
}
