{
 "cells": [
  {
   "cell_type": "code",
   "execution_count": 1,
   "id": "81ac7eee-b56b-440a-aa2b-d63b176289ce",
   "metadata": {},
   "outputs": [],
   "source": [
    "def ABCD() :\n",
    "    print(\"Hello from a function\")"
   ]
  },
  {
   "cell_type": "code",
   "execution_count": 2,
   "id": "6b12d002-7cb8-4e3f-b09b-5323e498f053",
   "metadata": {},
   "outputs": [
    {
     "name": "stdout",
     "output_type": "stream",
     "text": [
      "Hello from a function\n"
     ]
    }
   ],
   "source": [
    "ABCD()"
   ]
  },
  {
   "cell_type": "code",
   "execution_count": 3,
   "id": "10e3d3e2-b32f-421b-8f24-3772ddb633d4",
   "metadata": {},
   "outputs": [
    {
     "name": "stdout",
     "output_type": "stream",
     "text": [
      "Hello from a function\n"
     ]
    }
   ],
   "source": [
    "x=10\n",
    "y=20\n",
    "z=x+y\n",
    "ABCD()"
   ]
  },
  {
   "cell_type": "code",
   "execution_count": 4,
   "id": "ee03dcd9-f329-4f04-8a17-c1f38116d2e8",
   "metadata": {},
   "outputs": [],
   "source": [
    "def add():\n",
    "    x=int(input(\"enter first number\"))\n",
    "    y=int(input(\"emter second number\"))\n",
    "    print(x+y)"
   ]
  },
  {
   "cell_type": "code",
   "execution_count": 5,
   "id": "2536d89c-8e2b-4a20-bf19-5158dbdde5d8",
   "metadata": {},
   "outputs": [
    {
     "name": "stdin",
     "output_type": "stream",
     "text": [
      "enter first number 2\n",
      "emter second number 3\n"
     ]
    },
    {
     "name": "stdout",
     "output_type": "stream",
     "text": [
      "5\n"
     ]
    }
   ],
   "source": [
    "add()"
   ]
  },
  {
   "cell_type": "code",
   "execution_count": 6,
   "id": "43ba3a34-11d9-4c5a-8811-47ee05ea62a9",
   "metadata": {},
   "outputs": [],
   "source": [
    "def sub():\n",
    "    x=int(input(\"enter first number\"))\n",
    "    y=int(input(\"emter second number\"))\n",
    "    print(x-y)"
   ]
  },
  {
   "cell_type": "code",
   "execution_count": 7,
   "id": "9fcab11a-a4c5-49b3-b6ab-886eb1f9337f",
   "metadata": {},
   "outputs": [
    {
     "name": "stdin",
     "output_type": "stream",
     "text": [
      "enter first number 3\n",
      "emter second number 1\n"
     ]
    },
    {
     "name": "stdout",
     "output_type": "stream",
     "text": [
      "2\n"
     ]
    }
   ],
   "source": [
    "sub()"
   ]
  },
  {
   "cell_type": "code",
   "execution_count": 9,
   "id": "4512ab50-8f60-4ed3-9cb8-d67a83a0cf23",
   "metadata": {},
   "outputs": [],
   "source": [
    "def keerthana():\n",
    "    x=int(input(\"enter first number\"))\n",
    "    y=int(input(\"emter second number\"))\n",
    "    print(x*y)"
   ]
  },
  {
   "cell_type": "code",
   "execution_count": 10,
   "id": "45f2281c-675a-4ff0-ab1b-1d0fd98567a9",
   "metadata": {},
   "outputs": [
    {
     "name": "stdin",
     "output_type": "stream",
     "text": [
      "enter first number 20\n",
      "emter second number 2001\n"
     ]
    },
    {
     "name": "stdout",
     "output_type": "stream",
     "text": [
      "40020\n"
     ]
    }
   ],
   "source": [
    "keerthana()"
   ]
  },
  {
   "cell_type": "code",
   "execution_count": 11,
   "id": "70241a10-a785-4850-9ea2-b3272cc71273",
   "metadata": {},
   "outputs": [],
   "source": [
    "def manzaaaaaa():\n",
    "     x=int(input(\"enter first number\"))\n",
    "    y=int(input(\"emter second number\"))\n",
    "    print(x/y)"
   ]
  },
  {
   "cell_type": "code",
   "execution_count": 12,
   "id": "8f7c0413-f08c-4a2c-be84-19c3dd4885b7",
   "metadata": {},
   "outputs": [
    {
     "name": "stdin",
     "output_type": "stream",
     "text": [
      "enter first number 19\n",
      "emter second number 2002\n"
     ]
    },
    {
     "name": "stdout",
     "output_type": "stream",
     "text": [
      "0.00949050949050949\n"
     ]
    }
   ],
   "source": [
    "manzaaaaaa()"
   ]
  },
  {
   "cell_type": "code",
   "execution_count": 14,
   "id": "aceaa4de-1e1a-45c5-ade7-4af8af8e0630",
   "metadata": {},
   "outputs": [
    {
     "name": "stdin",
     "output_type": "stream",
     "text": [
      "enter function 2\n",
      "enter first number 3\n",
      "emter second number 3\n"
     ]
    },
    {
     "name": "stdout",
     "output_type": "stream",
     "text": [
      "0\n"
     ]
    }
   ],
   "source": [
    "A=int(input(\"enter function\"))\n",
    "if A == 1 :\n",
    "    add()\n",
    "if A == 2 :\n",
    "    sub()\n",
    "if A == 3 :\n",
    "    multi()\n",
    "if A == 4 :\n",
    "    div()"
   ]
  },
  {
   "cell_type": "code",
   "execution_count": 24,
   "id": "2d431fcc-2b37-444b-a98a-4af22aaf6126",
   "metadata": {},
   "outputs": [],
   "source": [
    "def add(x,y):\n",
    "    z=x+y\n",
    "    print(z)\n",
    "def sub(x,y):\n",
    "    z=x-y\n",
    "    print(z)\n",
    "def multi(x,y):\n",
    "    z=x*y\n",
    "    print(z)\n",
    "def div(x,y):\n",
    "    z=x/y\n",
    "    print(z)"
   ]
  },
  {
   "cell_type": "code",
   "execution_count": 27,
   "id": "2a31ed78-f3df-41ca-a466-d38d7e842d48",
   "metadata": {},
   "outputs": [
    {
     "name": "stdin",
     "output_type": "stream",
     "text": [
      "enter a value 24\n",
      "emter a value 24\n"
     ]
    },
    {
     "name": "stdout",
     "output_type": "stream",
     "text": [
      "48\n",
      "0\n",
      "576\n",
      "1.0\n"
     ]
    }
   ],
   "source": [
    "x=int(input(\"enter a value\"))\n",
    "y=int(input(\"emter a value\"))\n",
    "add(x,y)\n",
    "sub(x,y)\n",
    "multi(x,y)\n",
    "div(x,y)"
   ]
  },
  {
   "cell_type": "code",
   "execution_count": 34,
   "id": "4f57fd70-185f-4396-87dc-b1e02d16d4a0",
   "metadata": {},
   "outputs": [
    {
     "name": "stdin",
     "output_type": "stream",
     "text": [
      "enter function 3\n"
     ]
    },
    {
     "name": "stdout",
     "output_type": "stream",
     "text": [
      "576\n"
     ]
    }
   ],
   "source": [
    "A=int(input(\"enter function\"))\n",
    "if A == 0 :\n",
    "    print(\"finished\")\n",
    "else :  \n",
    "    if A == 1 :\n",
    "        add(x,y)\n",
    "    if A == 2 :\n",
    "        sub(x,y)\n",
    "    if A == 3 :\n",
    "        multi(x,y)\n",
    "    if A == 4 :\n",
    "        div(x,y,)"
   ]
  },
  {
   "cell_type": "code",
   "execution_count": null,
   "id": "9f185c61-e690-46a9-aef5-ac862e92b1b5",
   "metadata": {},
   "outputs": [],
   "source": []
  }
 ],
 "metadata": {
  "kernelspec": {
   "display_name": "Python 3",
   "language": "python",
   "name": "python3"
  },
  "language_info": {
   "codemirror_mode": {
    "name": "ipython",
    "version": 3
   },
   "file_extension": ".py",
   "mimetype": "text/x-python",
   "name": "python",
   "nbconvert_exporter": "python",
   "pygments_lexer": "ipython3",
   "version": "3.8.8"
  }
 },
 "nbformat": 4,
 "nbformat_minor": 5
}
