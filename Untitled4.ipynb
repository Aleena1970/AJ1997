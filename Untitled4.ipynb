{
 "cells": [
  {
   "cell_type": "code",
   "execution_count": 1,
   "id": "419e1d77-2cab-4aa7-85c9-dcbd41b3915c",
   "metadata": {},
   "outputs": [
    {
     "name": "stdin",
     "output_type": "stream",
     "text": [
      "enter username Abc\n",
      "enter password A1997\n"
     ]
    },
    {
     "ename": "NameError",
     "evalue": "name 'Abc' is not defined",
     "output_type": "error",
     "traceback": [
      "\u001b[1;31m---------------------------------------------------------------------------\u001b[0m",
      "\u001b[1;31mNameError\u001b[0m                                 Traceback (most recent call last)",
      "\u001b[1;32m<ipython-input-1-a8698bd6ead8>\u001b[0m in \u001b[0;36m<module>\u001b[1;34m\u001b[0m\n\u001b[0;32m      1\u001b[0m \u001b[0mx\u001b[0m\u001b[1;33m=\u001b[0m\u001b[0minput\u001b[0m\u001b[1;33m(\u001b[0m\u001b[1;34m\"enter username\"\u001b[0m\u001b[1;33m)\u001b[0m\u001b[1;33m\u001b[0m\u001b[1;33m\u001b[0m\u001b[0m\n\u001b[0;32m      2\u001b[0m \u001b[0my\u001b[0m\u001b[1;33m=\u001b[0m\u001b[0minput\u001b[0m\u001b[1;33m(\u001b[0m\u001b[1;34m\"enter password\"\u001b[0m\u001b[1;33m)\u001b[0m\u001b[1;33m\u001b[0m\u001b[1;33m\u001b[0m\u001b[0m\n\u001b[1;32m----> 3\u001b[1;33m \u001b[1;32mif\u001b[0m \u001b[0mx\u001b[0m \u001b[1;33m==\u001b[0m \u001b[0mAbc\u001b[0m \u001b[1;33m:\u001b[0m\u001b[1;33m\u001b[0m\u001b[1;33m\u001b[0m\u001b[0m\n\u001b[0m\u001b[0;32m      4\u001b[0m     \u001b[0mprint\u001b[0m\u001b[1;33m(\u001b[0m\u001b[1;34m\"username is valid\"\u001b[0m\u001b[1;33m)\u001b[0m\u001b[1;33m\u001b[0m\u001b[1;33m\u001b[0m\u001b[0m\n\u001b[0;32m      5\u001b[0m \u001b[1;32mif\u001b[0m \u001b[0mx\u001b[0m \u001b[1;33m==\u001b[0m \u001b[0mabc\u001b[0m \u001b[1;33m:\u001b[0m\u001b[1;33m\u001b[0m\u001b[1;33m\u001b[0m\u001b[0m\n",
      "\u001b[1;31mNameError\u001b[0m: name 'Abc' is not defined"
     ]
    }
   ],
   "source": [
    "x=input(\"enter username\")\n",
    "y=input(\"enter password\")\n",
    "if x == Abc : \n",
    "    print(\"username is valid\")\n",
    "if x == abc :\n",
    "    print(\"username is valid\")\n",
    "if x == ABC :\n",
    "    print(\"username is valid\")\n",
    "if y == A1997 :\n",
    "    print(\"password is valid\")\n",
    "else :\n",
    "    print(\"username and password is invalid\")"
   ]
  },
  {
   "cell_type": "code",
   "execution_count": 2,
   "id": "30c80fae-fdea-4e38-9545-c69e50db8d4e",
   "metadata": {},
   "outputs": [
    {
     "name": "stdin",
     "output_type": "stream",
     "text": [
      "Enter your income in lakhs 5\n"
     ]
    },
    {
     "name": "stdout",
     "output_type": "stream",
     "text": [
      "Base Tax\n"
     ]
    }
   ],
   "source": [
    "Income=int(input(\"Enter your income in lakhs\"))\n",
    "if ((Income>=3) and (Income<=5)) :\n",
    "    print(\"Base Tax\")\n",
    "else : \n",
    "    print(\"Special Tax rates\")"
   ]
  },
  {
   "cell_type": "code",
   "execution_count": 3,
   "id": "07c150c2-0beb-4285-b543-4bd21299bba6",
   "metadata": {},
   "outputs": [
    {
     "name": "stdin",
     "output_type": "stream",
     "text": [
      "Enter your income in lakhs 5\n"
     ]
    },
    {
     "name": "stdout",
     "output_type": "stream",
     "text": [
      "tax is 10 %\n"
     ]
    }
   ],
   "source": [
    "Income=int(input(\"Enter your income in lakhs\"))\n",
    "if ((Income<=2) or (Income>=50)) :\n",
    "    print(\"Tax rate is 5 %\")\n",
    "else :\n",
    "    print(\"tax is 10 %\")"
   ]
  },
  {
   "cell_type": "code",
   "execution_count": 16,
   "id": "19397857-8659-47ac-a8cf-7bb6c5e13fff",
   "metadata": {},
   "outputs": [
    {
     "name": "stdin",
     "output_type": "stream",
     "text": [
      "Base price 300\n",
      "Enter the slab value 28\n",
      "road Development Cess 23\n",
      "Road Tax 15\n",
      "Economic Cess 23\n",
      "VAT 5\n"
     ]
    },
    {
     "name": "stdout",
     "output_type": "stream",
     "text": [
      "28500\n"
     ]
    }
   ],
   "source": [
    "x=input(\"Base price\")\n",
    "GST=input(\"Enter the slab value\")\n",
    "y=input(\"road Development Cess\")\n",
    "z=input(\"Road Tax\")\n",
    "v=input(\"Economic Cess\")\n",
    "j=input(\"VAT\")\n",
    "p=int(x)+(int(GST)+int(y)+int(z)+int(v)+int(j))*int(x)\n",
    "print(p)"
   ]
  },
  {
   "cell_type": "code",
   "execution_count": 22,
   "id": "1519dc66-cf06-4672-9930-4468ede29ae5",
   "metadata": {},
   "outputs": [
    {
     "name": "stdin",
     "output_type": "stream",
     "text": [
      "Base price 300\n",
      "road Development Cess 23\n",
      "Road Tax 15\n",
      "Economic Cess 23\n",
      "VAT 5\n",
      "Enter Value 5\n"
     ]
    },
    {
     "name": "stdout",
     "output_type": "stream",
     "text": [
      "20100\n"
     ]
    }
   ],
   "source": [
    "a=input(\"Base price\")\n",
    "y=input(\"road Development Cess\")\n",
    "z=input(\"Road Tax\")\n",
    "v=input(\"Economic Cess\")\n",
    "j=input(\"VAT\")\n",
    "SV=int(input(\"Enter Value\"))\n",
    "if SV == 1 :\n",
    "    x=1/100\n",
    "if SV == 2 :\n",
    "    x=5/100\n",
    "if SV == 3 :\n",
    "    x=12/100\n",
    "if SV == 4 :\n",
    "    x=18/100\n",
    "if SV == 5 :\n",
    "    x=28/100\n",
    "p=int(a)+(int(x)+int(y)+int(z)+int(v)+int(j))*int(a)\n",
    "print(p)"
   ]
  },
  {
   "cell_type": "code",
   "execution_count": 1,
   "id": "baad5460-afa0-4b03-8735-7ce6886b7755",
   "metadata": {},
   "outputs": [
    {
     "name": "stdin",
     "output_type": "stream",
     "text": [
      "enter amount 6732\n"
     ]
    },
    {
     "ename": "NameError",
     "evalue": "name 'Income' is not defined",
     "output_type": "error",
     "traceback": [
      "\u001b[1;31m---------------------------------------------------------------------------\u001b[0m",
      "\u001b[1;31mNameError\u001b[0m                                 Traceback (most recent call last)",
      "\u001b[1;32m<ipython-input-1-f540b2f50414>\u001b[0m in \u001b[0;36m<module>\u001b[1;34m\u001b[0m\n\u001b[0;32m      1\u001b[0m \u001b[0mx\u001b[0m\u001b[1;33m=\u001b[0m\u001b[0mint\u001b[0m\u001b[1;33m(\u001b[0m\u001b[0minput\u001b[0m\u001b[1;33m(\u001b[0m\u001b[1;34m\"enter amount\"\u001b[0m\u001b[1;33m)\u001b[0m\u001b[1;33m)\u001b[0m\u001b[1;33m\u001b[0m\u001b[1;33m\u001b[0m\u001b[0m\n\u001b[1;32m----> 2\u001b[1;33m \u001b[1;32mif\u001b[0m\u001b[1;33m(\u001b[0m\u001b[0mIncome\u001b[0m\u001b[1;33m<=\u001b[0m\u001b[1;36m250000\u001b[0m\u001b[1;33m)\u001b[0m \u001b[1;33m:\u001b[0m\u001b[1;33m\u001b[0m\u001b[1;33m\u001b[0m\u001b[0m\n\u001b[0m\u001b[0;32m      3\u001b[0m       \u001b[0mprint\u001b[0m\u001b[1;33m(\u001b[0m\u001b[1;34m\"Zero Tax\"\u001b[0m\u001b[1;33m)\u001b[0m\u001b[1;33m\u001b[0m\u001b[1;33m\u001b[0m\u001b[0m\n",
      "\u001b[1;31mNameError\u001b[0m: name 'Income' is not defined"
     ]
    }
   ],
   "source": [
    "x=int(input(\"enter amount\"))\n",
    "if(Income<=250000) :\n",
    "      print(\"Zero Tax\")"
   ]
  },
  {
   "cell_type": "code",
   "execution_count": null,
   "id": "780c5cb0-f53f-45f8-8f78-1d62609f88a5",
   "metadata": {},
   "outputs": [],
   "source": []
  },
  {
   "cell_type": "code",
   "execution_count": null,
   "id": "59ec5479-49ea-4e9d-8812-35136ca9e412",
   "metadata": {},
   "outputs": [],
   "source": []
  }
 ],
 "metadata": {
  "kernelspec": {
   "display_name": "Python 3",
   "language": "python",
   "name": "python3"
  },
  "language_info": {
   "codemirror_mode": {
    "name": "ipython",
    "version": 3
   },
   "file_extension": ".py",
   "mimetype": "text/x-python",
   "name": "python",
   "nbconvert_exporter": "python",
   "pygments_lexer": "ipython3",
   "version": "3.8.8"
  }
 },
 "nbformat": 4,
 "nbformat_minor": 5
}
